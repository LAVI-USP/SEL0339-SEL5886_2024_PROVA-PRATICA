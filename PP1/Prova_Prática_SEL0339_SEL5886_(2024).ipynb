{
  "nbformat": 4,
  "nbformat_minor": 0,
  "metadata": {
    "colab": {
      "provenance": []
    },
    "kernelspec": {
      "name": "python3",
      "display_name": "Python 3"
    }
  },
  "cells": [
    {
      "cell_type": "markdown",
      "metadata": {
        "id": "kGlmyFQMaR-U"
      },
      "source": [
        "# Prova prática 1 - SEL0339/SEL5886 (2024)\n",
        "### Introdução à Visão Computacional (SEL0339/SEL5886)\n",
        "\n",
        "**Instruções:**\n",
        "\n",
        " 1. Esta prova consiste em 2 exercícios.\n",
        " 1. Deve-se colocar comentários nos códigos desenvolvidos.\n",
        "\n",
        "\n",
        "ATENÇÃO!\n",
        "\n",
        "Leia atentamente as instruções antes de iniciar a prova.\n",
        "\n",
        "Não serão aceitas reclamações posteriores por desconhecimento de qualquer informação descrita neste tópico.\n",
        "\n",
        "\n",
        "\n",
        "**Instruções para a realização da Prova 1 prática de Introdução à Visão Computacional (SEL0339/SEL5886):**\n",
        "\n",
        "- A prova PP1 estará disponível no sistema e-Disciplinas, que deve ser acessado a partir das 8:10h do dia 17/10/2024 exclusivamente de um dos computadores do Laboratório LEI-SEL-MENOR;\n",
        "\n",
        "- Só será permitido o envio da prova resolvida até às 10:10 do mesmo dia, totalizando 60 minutos de duração;\n",
        "\n",
        "- Após a conclusão da prova, faça o download do Jupyter notebook e envie para o professor pelo sistema E-Disciplinas;\n",
        "\n",
        "- Provas realizadas com acesso de outro computador não pertencente ao LEI-SEL não serão consideradas;\n",
        "\n",
        "- As provas são individuais e sem consulta;\n",
        "\n",
        "- Nenhum outro material deve permanecer com o aluno durante a prova: caderno, livros, notebook, mochila, estojo, calculadora, celular, smartphone, smartwatch, etc. estão proibidos.\n",
        "\n",
        "- Não será permitido ao aluno portar telefone celular nem smartwatch durante a prova, mesmo que desligado e no bolso. O mesmo deve ser colocado dentro da mochila ou em cima da mesa do professor. Não esqueça de desligá-lo!\n",
        "\n",
        "- Durante a realização das provas, todos os programas e janelas do computador devem permanecer fechadas, com exceção da tela do navegador com o e-Disciplinas e do Google Colab (exclusivamente no caso da PP1). A consulta a qualquer material online ou qualquer site durante a realização da prova será considerado \"cola\" e anulará a prova do aluno, que ficará com nota zero.\n",
        "\n",
        "- O aluno não poderá sair da sala durante o período de cada prova (apenas no intervalo entre elas);\n",
        "\n",
        "- Os monitores da disciplina não são autorizados a responder nenhuma pergunta sobre o conteúdo das provas.\n",
        "\n",
        "- Boa Prova!\n",
        "\n",
        "\n",
        "**Dicas gerais:**\n",
        "\n",
        "* Caso queira obter a descrição de uma função específica, você pode utilizar o comando `help()`. Por exemplo: `help(np.max)`\n",
        "\n",
        "* Ao plotar as imagens lembre-se das funções da biblioteca matplotlib.pyplot. Exemplo:\n",
        "\n",
        "``` python\n",
        "# Exemplo\n",
        "plt.figure(figsize=(size,size)) # Tamanho da figura\n",
        "plt.imshow(img, cmap = 'gray', vmin = x, vmax = y) # Mapa de cores: escala de cinza. Definição do valor máximo e mínimo de intensidade para visualização.\n",
        "plt.title(\"Titulo da figura\")\n",
        "plt.show()\n",
        "```\n",
        "\n",
        "\n",
        "---\n",
        "\n",
        "\n",
        "\n",
        " <table class=\"tfo-notebook-buttons\" align=\"left\">\n",
        "  <td>\n",
        "    <a target=\"_blank\" href=\"https://colab.research.google.com/github/LAVI-USP/SEL0339-SEL5886_2024_PROVA-PRATICA/blob/main/PP1/Prova_Pr%C3%A1tica_SEL0339_SEL5886_(2024).ipynb\"><img src=\"https://www.tensorflow.org/images/colab_logo_32px.png\" />Executar no Google Colab</a>\n",
        "  </td>\n",
        "  <td>\n",
        "    <a target=\"_blank\" href=\"https://github.com/LAVI-USP/SEL0339-SEL5886_2024_PROVA-PRATICA/blob/main/PP1/Prova_Pr%C3%A1tica_SEL0339_SEL5886_(2024).ipynb\"><img src=\"https://www.tensorflow.org/images/GitHub-Mark-32px.png\" />Ver codigo fonte no GitHub</a>\n",
        "  </td>\n",
        "</table>\n"
      ]
    },
    {
      "cell_type": "markdown",
      "metadata": {
        "id": "L3qYz1dB-tlT"
      },
      "source": [
        "`Nome: `\n",
        "\n",
        "`Número USP: `\n"
      ]
    },
    {
      "cell_type": "markdown",
      "metadata": {
        "id": "b9uBe7nevota"
      },
      "source": [
        "### Introdução:\n",
        "\n",
        "\n",
        "Vamos importar as bibliotecas que iremos utilizar:"
      ]
    },
    {
      "cell_type": "code",
      "metadata": {
        "id": "xnKV2As4aCX1"
      },
      "source": [
        "import numpy as np\n",
        "import matplotlib.pyplot as plt\n",
        "import cv2 as cv\n",
        "import os\n",
        "\n",
        "from IPython.display import HTML\n",
        "from base64 import b64encode"
      ],
      "execution_count": null,
      "outputs": []
    },
    {
      "cell_type": "markdown",
      "metadata": {
        "id": "NyvxHviMpShq"
      },
      "source": [
        "#### **Atenção**: os códigos abaixo são para fazer o download das imagens (EXECUTE-OS). Os mesmos não fazem parte dessa prática."
      ]
    },
    {
      "cell_type": "code",
      "metadata": {
        "id": "Amk5CM273Afp"
      },
      "source": [
        "import urllib.request\n",
        "\n",
        "\n",
        "try:\n",
        "  urllib.request.urlretrieve(\"https://github.com/LAVI-USP/SEL0339-SEL5886_2024_PROVA-PRATICA/raw/main/PP1/Imagens_prova/texto.png\", \"texto.png\")\n",
        "except:\n",
        "  print(\"[ERRO] Não foi possível fazer o download das imagens dessa prática. Entre em contato com o monitor\")\n",
        "\n",
        "\n",
        "try:\n",
        "  urllib.request.urlretrieve(\"https://github.com/LAVI-USP/SEL0339-SEL5886_2024_PROVA-PRATICA/raw/main/PP1/Imagens_prova/pontos.tif\", \"pontos.tif\")\n",
        "except:\n",
        "  print(\"[ERRO] Não foi possível fazer o download das imagens dessa prática. Entre em contato com o monitor\")\n",
        "\n"
      ],
      "execution_count": null,
      "outputs": []
    },
    {
      "cell_type": "markdown",
      "source": [
        "### 1) Processamento morfológico\n",
        "\n",
        "**Exercício:**\n",
        "\n",
        "1. Dilatar a imagem ```texto.png``` usando o seguinte elemento estruturante (SE) e mostre a imagem resultante:\n",
        "\n",
        "\\begin{equation}\n",
        "SE =\n",
        "\\begin{bmatrix}\n",
        "1 & 0 & 1\\\\\n",
        "0 & 1 & 0\\\\\n",
        "1 & 0 & 1\n",
        "\\end{bmatrix}\n",
        "\\end{equation}\n",
        "\n",
        "2. Gere os seguintes elementos estruturantes e mostre-os em *subplots*.\n",
        "\n",
        "  *   SE1: Retângulo de tamanho 5;\n",
        "  \n",
        "  *   SE2: Cruz de tamanho 7;\n",
        "  \n",
        "  *   SE3: Elipse de tamanho 11.\n",
        "  \n",
        "3. Faça a erosão da imagem resultante do item 1, agora com um elemento estruturante em forma de elipse de tamanho 5. Mostre o resultado.\n",
        "\n",
        "4. Através de operações lógicas, subtraia a imagem original (```texto.png```) do resultado do item 3 e mostre a imagem resultante.\n",
        "\n",
        "5. Comente os resultados do item 1, 3 e 4.\n",
        "\n",
        "6. É correto dizer que um **fechamento** foi realizado? Justifique.   \n",
        "\n",
        "**Dicas:**\n",
        "\n",
        "*  Você pode usar a função [cv.dilate](https://docs.opencv.org/3.4/d4/d86/group__imgproc__filter.html#ga4ff0f3318642c4f469d0e11f242f3b6c) para fazer a dilatação e a função [cv.erode](https://docs.opencv.org/3.4/d4/d86/group__imgproc__filter.html#gaeb1e0c1033e3f6b891a25d0511362aeb) para fazer a erosão.\n",
        "\n",
        "``` python\n",
        "cv.dilate(myImg, SE, iterations = 1)\n",
        "cv.erode(myImg, SE, iterations = 1)\n",
        "```\n",
        "\n",
        "* A função [cv.getStructuringElement](https://docs.opencv.org/3.4/d4/d86/group__imgproc__filter.html#gac342a1bb6eabf6f55c803b09268e36dc) pode ser usada para gerar os elementos estruturantes.\n",
        "\n",
        "``` python\n",
        "  cv.getStructuringElement(cv.MORPH_RECT,(.,.))\n",
        "  cv.getStructuringElement(cv.MORPH_CROSS,(.,.))\n",
        "  cv.getStructuringElement(cv.MORPH_ELLIPSE,(.,.))\n",
        "```\n",
        "\n",
        "* As funções [np.bitwise_xor](https://numpy.org/doc/stable/reference/generated/numpy.bitwise_xor.html), [np.bitwise_or](https://numpy.org/doc/stable/reference/generated/numpy.bitwise_or.html#numpy.bitwise_or) e [np.bitwise_and](https://numpy.org/doc/stable/reference/generated/numpy.bitwise_and.html#numpy.bitwise_and) podem ser úteis.\n"
      ],
      "metadata": {
        "id": "l1jMJQ3UJyB3"
      }
    },
    {
      "cell_type": "code",
      "source": [
        "## -- Seu código começa AQUI -- ##import pandas as pd\n",
        "\n",
        "\n",
        "## -- Seu código termina AQUI -- ##"
      ],
      "metadata": {
        "id": "ircO2JOJJ7eT"
      },
      "execution_count": null,
      "outputs": []
    },
    {
      "cell_type": "markdown",
      "source": [
        "## 2) Detecção de pontos isolados\n",
        "\n",
        "A figura ```pontos.tif``` apresenta 3 pontos isolados quase imperceptíveis que podem ser detectados com um filtro passa-alta espacial.\n",
        "\n",
        "A seguir são disponibilizados os *kernels* de 3 distintos filtros passa-alta espaciais, quais sejam Prewitt, Sobel e Laplaciano.   \n",
        "\n",
        "**Exercício:**\n",
        "\n",
        "1. Carregue e mostre a imagem ```pontos.tif``` (lembre-se de colocar título).\n",
        "\n",
        "2. Com o intuito de detectar os pontos imperceptíveis, escolha e aplique à imagem apenas um dos tipos de filtro disponibilizados. Justifique sua escolha.\n",
        "\n",
        "3. Para melhor visualização dos pontos, faça a binarização dessa imagem resultante do item 2. Se necessário, utilize o histograma da imagem após a filtragem para detectar um bom valor de *threshold*.\n",
        "\n",
        "*Obs.:* Caso você acredite ser a melhor decisão a aplicação dos filtros de Prewitt, saiba que poderá se valer de todos os seus *kernels* (p1 e p2). O mesmo vale caso opte por aplicar os filtros de Sobel (s1, s2, s3, s4, s5, e s6).\n",
        "\n",
        "\n",
        "**Dicas:**\n",
        "\n",
        "*  Você pode utilizar a função [cv.filter2D](https://docs.opencv.org/3.4/d4/d86/group__imgproc__filter.html#ga27c049795ce870216ddfb366086b5a04) para fazer a convolução com o *kernel*;\n",
        "\n",
        "*  Você pode utilizar a função [np.where](https://numpy.org/doc/stable/reference/generated/numpy.where.html) para fazer a binarização.\n",
        "\n",
        "\n",
        "*Ex:*\n",
        "``` python\n",
        "cv.filter2D(myImg, -1, myKernel)\n",
        "np.where(myImg < threshold, Valor_para_TRUE, Valor_para_FALSE)\n",
        "```"
      ],
      "metadata": {
        "id": "n4We4i5pJ6ql"
      }
    },
    {
      "cell_type": "code",
      "source": [
        "# Prewitt\n",
        "p1 = np.array(((-1,-1,-1),\n",
        "               ( 0, 0, 0),\n",
        "               ( 1, 1, 1)))\n",
        "\n",
        "p2 = np.array(((-1, 0, 1),\n",
        "               (-1, 0, 1),\n",
        "               (-1, 0, 1)))\n",
        "\n",
        "# Lista com todos os kernels (Prewitt)\n",
        "prewitt = [p1,p2]\n",
        "\n",
        "# Sobel\n",
        "s1 = np.array(((-1,-2,-1),\n",
        "               ( 0, 0, 0),\n",
        "               ( 1, 2, 1)))\n",
        "\n",
        "s2 = np.array(((-1, 0, 1),\n",
        "               (-2, 0, 2),\n",
        "               (-1, 0, 1)))\n",
        "\n",
        "s3 = np.array(((-2,-1, 0),\n",
        "               (-1, 0, 1),\n",
        "               ( 0, 1, 2)))\n",
        "\n",
        "s4 = np.array((( 0, 1, 2),\n",
        "               (-1, 0, 1),\n",
        "               (-2,-1, 0)))\n",
        "\n",
        "s5 = np.array((( 2, 1, 0),\n",
        "               ( 1, 0,-1),\n",
        "               ( 0,-1,-2)))\n",
        "\n",
        "s6 = np.array((( 0,-1,-2),\n",
        "               ( 1, 0,-1),\n",
        "               ( 2, 1, 0)))\n",
        "\n",
        "# Lista com todos os kernels (Sobel)\n",
        "sobel = [s1,s2,s3,s4,s5,s6]\n",
        "\n",
        "# Laplaciano\n",
        "laplaciano = np.array(((0, -1, 0),\n",
        "                       (-1, 4,-1),\n",
        "                       (0, -1, 0)))"
      ],
      "metadata": {
        "id": "-ZsXsCYxLHqk"
      },
      "execution_count": null,
      "outputs": []
    },
    {
      "cell_type": "code",
      "source": [
        "## -- Seu código começa AQUI -- ##\n",
        "\n",
        "\n",
        "## -- Seu código termina AQUI -- ##"
      ],
      "metadata": {
        "id": "Ii3aLQUfJ49k"
      },
      "execution_count": null,
      "outputs": []
    }
  ]
}